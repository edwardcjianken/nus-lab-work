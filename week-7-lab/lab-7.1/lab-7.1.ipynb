{
 "cells": [
  {
   "cell_type": "markdown",
   "id": "6af115d4",
   "metadata": {},
   "source": [
    "## Exercise 1 - Synthetic Data Generation"
   ]
  },
  {
   "cell_type": "code",
   "execution_count": 14,
   "id": "1d0c0ca6",
   "metadata": {},
   "outputs": [],
   "source": [
    "import numpy as np\n",
    "import time\n"
   ]
  },
  {
   "cell_type": "code",
   "execution_count": 15,
   "id": "ee038020",
   "metadata": {},
   "outputs": [
    {
     "name": "stdout",
     "output_type": "stream",
     "text": [
      "Seed set to: 1748841122\n"
     ]
    }
   ],
   "source": [
    "# Initialise seed using current time\n",
    "current_time = int(time.time())\n",
    "np.random.seed(current_time)\n",
    "\n",
    "print('Seed set to:', current_time)"
   ]
  },
  {
   "cell_type": "code",
   "execution_count": 17,
   "id": "9f11999a",
   "metadata": {},
   "outputs": [
    {
     "data": {
      "text/plain": [
       "array([121.62075368, 121.57269779,  93.86991821, ...,  90.82954863,\n",
       "        81.13844472,  87.58312066], shape=(5000,))"
      ]
     },
     "execution_count": 17,
     "metadata": {},
     "output_type": "execute_result"
    }
   ],
   "source": [
    "# Generate 5,000 customers' purchase amount in dollars. Data to follow normal distribution with mean of 100 and standard deviation of 25.\n",
    "purchase_amounts = np.random.normal(loc=100, scale=25, size=5000)\n",
    "\n",
    "purchase_amounts = np.clip(purchase_amounts, 0, None)\n",
    "\n",
    "purchase_amounts"
   ]
  },
  {
   "cell_type": "markdown",
   "id": "cd9322aa",
   "metadata": {},
   "source": [
    "## Exercise 2 - Basic Data Analysis"
   ]
  },
  {
   "cell_type": "code",
   "execution_count": 18,
   "id": "ccaebe61",
   "metadata": {},
   "outputs": [
    {
     "name": "stdout",
     "output_type": "stream",
     "text": [
      "Average spending: 100.32\n"
     ]
    }
   ],
   "source": [
    "# Average spending\n",
    "average_spending = np.mean(purchase_amounts)\n",
    "print(f'Average spending: {average_spending:.2f}')"
   ]
  },
  {
   "cell_type": "code",
   "execution_count": 19,
   "id": "ffb374cb",
   "metadata": {},
   "outputs": [
    {
     "name": "stdout",
     "output_type": "stream",
     "text": [
      "Spending standard deviation: 24.93\n"
     ]
    }
   ],
   "source": [
    "# Standard deviation of spending\n",
    "std_spending = np.std(purchase_amounts)\n",
    "print(f\"Spending standard deviation: {std_spending:.2f}\")"
   ]
  },
  {
   "cell_type": "code",
   "execution_count": 20,
   "id": "38e1a779",
   "metadata": {},
   "outputs": [
    {
     "name": "stdout",
     "output_type": "stream",
     "text": [
      "Number of high-value customers: 2534\n",
      "Percentage of high-value customers: 50.68 %\n"
     ]
    }
   ],
   "source": [
    "#Customers who spend more than $100\n",
    "high_value_customers = purchase_amounts[purchase_amounts > 100]\n",
    "\n",
    "qty_high_value_customers = len(high_value_customers)\n",
    "perc_high_value_customers = qty_high_value_customers / len(purchase_amounts) * 100\n",
    "\n",
    "print(f'Number of high-value customers: {qty_high_value_customers}')\n",
    "print(f'Percentage of high-value customers: {perc_high_value_customers:.2f} %')"
   ]
  },
  {
   "cell_type": "code",
   "execution_count": null,
   "id": "45059d96",
   "metadata": {},
   "outputs": [
    {
     "name": "stdout",
     "output_type": "stream",
     "text": [
      "Number of top spenders: 250\n",
      "Top 5% spending threshold: $141.63504544747596\n"
     ]
    }
   ],
   "source": [
    "# Top 5% spenders\n",
    "top_5_perc_threshold = np.percentile(purchase_amounts, 95)\n",
    "top_5_perc_spenders = purchase_amounts[purchase_amounts > top_5_perc_threshold]\n",
    "qty_top_5_perc_spenders = len(top_5_perc_spenders)\n",
    "\n",
    "print(f'Number of top spenders: {qty_top_5_perc_spenders}')\n",
    "print(f'Top 5% spending threshold: ${top_5_perc_threshold:.2f}')"
   ]
  },
  {
   "cell_type": "code",
   "execution_count": 23,
   "id": "2ef990ea",
   "metadata": {},
   "outputs": [
    {
     "name": "stdout",
     "output_type": "stream",
     "text": [
      "Total revenue: $501612.14\n"
     ]
    }
   ],
   "source": [
    "# Total revenue\n",
    "total_revenue = np.sum(purchase_amounts)\n",
    "print(f'Total revenue: ${total_revenue:.2f}')"
   ]
  },
  {
   "cell_type": "markdown",
   "id": "cfbe2a0b",
   "metadata": {},
   "source": [
    "## Exercise 3 - Advanced Data Analysis"
   ]
  },
  {
   "cell_type": "code",
   "execution_count": 26,
   "id": "c7247bc5",
   "metadata": {},
   "outputs": [
    {
     "name": "stdout",
     "output_type": "stream",
     "text": [
      "Outlier high spending threshold: $150.1818486405674\n",
      "Outlier low spending threshold: $50.46300662996218\n",
      "Number of high outliers: 103\n",
      "Number of low outliers: 107\n"
     ]
    }
   ],
   "source": [
    "# Define outliers\n",
    "mean = np.mean(purchase_amounts)\n",
    "std = np.std(purchase_amounts)\n",
    "\n",
    "outlier_threshold_high = mean + 2 * std\n",
    "outlier_threshold_low = mean - 2 * std\n",
    "\n",
    "outliers_high = purchase_amounts[purchase_amounts > outlier_threshold_high]\n",
    "outliers_low = purchase_amounts[purchase_amounts < outlier_threshold_low]\n",
    "qty_outliers_high = len(outliers_high)\n",
    "qty_outliers_low = len(outliers_low)\n",
    "\n",
    "print(f'Outlier high spending threshold: ${outlier_threshold_high}')\n",
    "print(f'Outlier low spending threshold: ${outlier_threshold_low}')\n",
    "\n",
    "print(f'Number of high outliers: {qty_outliers_high}')\n",
    "print(f'Number of low outliers: {qty_outliers_low}')"
   ]
  },
  {
   "cell_type": "code",
   "execution_count": 29,
   "id": "75e0e327",
   "metadata": {},
   "outputs": [
    {
     "name": "stdout",
     "output_type": "stream",
     "text": [
      "Very Low Spender: 103 customers\n",
      "Low Spender: 2363 customers\n",
      "Average Spender: 2428 customers\n",
      "High Spender: 99 customers\n",
      "Very High Spender: 7 customers\n"
     ]
    }
   ],
   "source": [
    "# Define bins\n",
    "bins = [0, 50, 100, 150, 175]\n",
    "labels = ['Very Low Spender', 'Low Spender', 'Average Spender', 'High Spender', 'Very High Spender']\n",
    "\n",
    "# Digitize spending\n",
    "spending_tiers = np.digitize(purchase_amounts, bins, right=True)\n",
    "\n",
    "# Count customers in each tier\n",
    "for i, label in enumerate(labels):\n",
    "    count = np.sum(spending_tiers == i + 1)\n",
    "    print(f'{label}: {count} customers')"
   ]
  },
  {
   "cell_type": "code",
   "execution_count": 32,
   "id": "cec2504d",
   "metadata": {},
   "outputs": [
    {
     "name": "stdout",
     "output_type": "stream",
     "text": [
      "Projected total revenue after campaign: 576853.96\n",
      "Projected revenue increase: $75241.82\n"
     ]
    }
   ],
   "source": [
    "# Simulate new purchase amount after offering discount\n",
    "expected_increase_rate = 1.15\n",
    "new_purchase_amounts = purchase_amounts * expected_increase_rate\n",
    "\n",
    "new_total_revenue = np.sum(new_purchase_amounts)\n",
    "revenue_increase = new_total_revenue - total_revenue\n",
    "\n",
    "print(f'Projected total revenue after campaign: {new_total_revenue:.2f}')\n",
    "print(f'Projected revenue increase: ${revenue_increase:.2f}')"
   ]
  }
 ],
 "metadata": {
  "kernelspec": {
   "display_name": "Python 3",
   "language": "python",
   "name": "python3"
  },
  "language_info": {
   "codemirror_mode": {
    "name": "ipython",
    "version": 3
   },
   "file_extension": ".py",
   "mimetype": "text/x-python",
   "name": "python",
   "nbconvert_exporter": "python",
   "pygments_lexer": "ipython3",
   "version": "3.13.3"
  }
 },
 "nbformat": 4,
 "nbformat_minor": 5
}
